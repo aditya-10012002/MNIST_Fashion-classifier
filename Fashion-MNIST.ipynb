{
 "cells": [
  {
   "cell_type": "markdown",
   "metadata": {},
   "source": [
    "# Classifying Fashion-MNIST\n",
    "\n",
    "Now it's your turn to build and train a neural network. You'll be using the [Fashion-MNIST dataset](https://github.com/zalandoresearch/fashion-mnist), a drop-in replacement for the MNIST dataset. MNIST is actually quite trivial with neural networks where you can easily achieve better than 97% accuracy. Fashion-MNIST is a set of 28x28 greyscale images of clothes. It's more complex than MNIST, so it's a better representation of the actual performance of your network, and a better representation of datasets you'll use in the real world.\n",
    "\n",
    "In this notebook, you'll build your own neural network. "
   ]
  },
  {
   "cell_type": "code",
   "execution_count": 1,
   "metadata": {},
   "outputs": [],
   "source": [
    "import torch\n",
    "from torchvision import datasets, transforms\n",
    "import helper\n",
    "\n",
    "transform = transforms.Compose([transforms.ToTensor(),\n",
    "                                transforms.Normalize((0.5,), (0.5,))])\n",
    "trainset = datasets.FashionMNIST('~/.pytorch/F_MNIST_data/', download=True, train=True, transform=transform)\n",
    "trainloader = torch.utils.data.DataLoader(trainset, batch_size=64, shuffle=True)\n",
    "\n",
    "testset = datasets.FashionMNIST('~/.pytorch/F_MNIST_data/', download=True, train=False, transform=transform)\n",
    "testloader = torch.utils.data.DataLoader(testset, batch_size=64, shuffle=True)"
   ]
  },
  {
   "cell_type": "markdown",
   "metadata": {},
   "source": [
    "Here we can see one of the images."
   ]
  },
  {
   "cell_type": "code",
   "execution_count": 2,
   "metadata": {},
   "outputs": [
    {
     "data": {
      "image/png": "[encoded data removed]",
      "text/plain": [
       "<Figure size 432x288 with 1 Axes>"
      ]
     },
     "metadata": {
      "needs_background": "light"
     },
     "output_type": "display_data"
    }
   ],
   "source": [
    "image, label = next(iter(trainloader))\n",
    "helper.imshow(image[0,:]);"
   ]
  },
  {
   "cell_type": "code",
   "execution_count": 3,
   "metadata": {},
   "outputs": [
    {
     "name": "stdout",
     "output_type": "stream",
     "text": [
      "Sequential(\n",
      "  (0): Linear(in_features=784, out_features=256, bias=True)\n",
      "  (1): ReLU()\n",
      "  (2): Linear(in_features=256, out_features=128, bias=True)\n",
      "  (3): ReLU()\n",
      "  (4): Linear(in_features=128, out_features=64, bias=True)\n",
      "  (5): ReLU()\n",
      "  (6): Linear(in_features=64, out_features=10, bias=True)\n",
      "  (7): LogSoftmax(dim=1)\n",
      ")\n"
     ]
    }
   ],
   "source": [
    "# Network architecture.\n",
    "\n",
    "from torch import nn, optim\n",
    "import torch.nn.functional as F\n",
    "\n",
    "model = nn.Sequential(\n",
    "            nn.Linear(784, 256),\n",
    "            nn.ReLU(),\n",
    "            nn.Linear(256, 128),\n",
    "            nn.ReLU(),\n",
    "            nn.Linear(128, 64),\n",
    "            nn.ReLU(),\n",
    "            nn.Linear(64, 10),\n",
    "            nn.LogSoftmax(dim=1)\n",
    "        )\n",
    "\n",
    "print(model)\n"
   ]
  },
  {
   "cell_type": "markdown",
   "metadata": {},
   "source": [
    "# Train the network"
   ]
  },
  {
   "cell_type": "code",
   "execution_count": 4,
   "metadata": {},
   "outputs": [],
   "source": [
    "criterion = nn.NLLLoss()\n",
    "optimizer = optim.Adam(model.parameters(), lr=0.003)"
   ]
  },
  {
   "cell_type": "code",
   "execution_count": 5,
   "metadata": {},
   "outputs": [
    {
     "name": "stdout",
     "output_type": "stream",
     "text": [
      "Training loss: 0.522864059551057\n",
      "Training loss: 0.38914029702131175\n",
      "Training loss: 0.3551895478323324\n",
      "Training loss: 0.33443545450819834\n",
      "Training loss: 0.31878716080808944\n",
      "Training loss: 0.300605743503901\n",
      "Training loss: 0.2902081605436197\n",
      "Training loss: 0.28045168767637535\n",
      "Training loss: 0.2756384148208826\n",
      "Training loss: 0.2658802990847305\n",
      "Training loss: 0.2610170238419001\n",
      "Training loss: 0.25376721451293305\n",
      "Training loss: 0.24638766255269426\n",
      "Training loss: 0.24311370456190123\n",
      "Training loss: 0.238398743662308\n"
     ]
    }
   ],
   "source": [
    "# Training the network.\n",
    "\n",
    "epochs = 15\n",
    "\n",
    "for e in range(epochs):\n",
    "    running_loss = 0\n",
    "    for images, labels in trainloader:\n",
    "        \n",
    "        images = images.view(images.shape[0], -1)\n",
    "        optimizer.zero_grad()\n",
    "        \n",
    "        output = model(images)\n",
    "        loss = criterion(output, labels)\n",
    "        loss.backward()\n",
    "        optimizer.step()\n",
    "        \n",
    "        running_loss += loss.item()\n",
    "        \n",
    "    else:\n",
    "        print(f\"Training loss: {running_loss/len(trainloader)}\")        "
   ]
  },
  {
   "cell_type": "code",
   "execution_count": 6,
   "metadata": {},
   "outputs": [],
   "source": [
    "class Network(nn.Module):\n",
    "    def __init__(self):\n",
    "        super().__init__()\n",
    "        self.fc1 = nn.Linear(784, 256)\n",
    "        self.fc2 = nn.Linear(256, 128)\n",
    "        self.fc3 = nn.Linear(128, 64)\n",
    "        self.fc4 = nn.Linear(64, 10)\n",
    "        \n",
    "        self.dropout = nn.Dropout(p=0.2)\n",
    "        \n",
    "    def forward(self, x):\n",
    "        \n",
    "        x = x.view(x.shape[0], -1)\n",
    "        x = self.dropout(F.relu(self.fc1(x)))\n",
    "        x = self.dropout(F.relu(self.fc2(x)))\n",
    "        x = self.dropout(F.relu(self.fc3(x)))\n",
    "        \n",
    "        x = F.log_softmax(self.fc4(x), dim=1)\n",
    "        return x"
   ]
  },
  {
   "cell_type": "code",
   "execution_count": 7,
   "metadata": {},
   "outputs": [
    {
     "name": "stdout",
     "output_type": "stream",
     "text": [
      "Epochs : 1/30.. Training loss : 0.617.. Testing loss : 0.478.. Test accuracy : 0.828\n",
      "Epochs : 2/30.. Training loss : 0.483.. Testing loss : 0.438.. Test accuracy : 0.841\n",
      "Epochs : 3/30.. Training loss : 0.450.. Testing loss : 0.434.. Test accuracy : 0.844\n",
      "Epochs : 4/30.. Training loss : 0.436.. Testing loss : 0.428.. Test accuracy : 0.844\n",
      "Epochs : 5/30.. Training loss : 0.419.. Testing loss : 0.403.. Test accuracy : 0.856\n",
      "Epochs : 6/30.. Training loss : 0.411.. Testing loss : 0.416.. Test accuracy : 0.860\n",
      "Epochs : 7/30.. Training loss : 0.404.. Testing loss : 0.391.. Test accuracy : 0.863\n",
      "Epochs : 8/30.. Training loss : 0.399.. Testing loss : 0.414.. Test accuracy : 0.857\n",
      "Epochs : 9/30.. Training loss : 0.391.. Testing loss : 0.402.. Test accuracy : 0.859\n",
      "Epochs : 10/30.. Training loss : 0.392.. Testing loss : 0.391.. Test accuracy : 0.861\n",
      "Epochs : 11/30.. Training loss : 0.388.. Testing loss : 0.397.. Test accuracy : 0.865\n",
      "Epochs : 12/30.. Training loss : 0.380.. Testing loss : 0.380.. Test accuracy : 0.860\n",
      "Epochs : 13/30.. Training loss : 0.372.. Testing loss : 0.396.. Test accuracy : 0.860\n",
      "Epochs : 14/30.. Training loss : 0.373.. Testing loss : 0.390.. Test accuracy : 0.864\n",
      "Epochs : 15/30.. Training loss : 0.374.. Testing loss : 0.397.. Test accuracy : 0.864\n",
      "Epochs : 16/30.. Training loss : 0.364.. Testing loss : 0.382.. Test accuracy : 0.864\n",
      "Epochs : 17/30.. Training loss : 0.364.. Testing loss : 0.378.. Test accuracy : 0.872\n",
      "Epochs : 18/30.. Training loss : 0.363.. Testing loss : 0.393.. Test accuracy : 0.868\n",
      "Epochs : 19/30.. Training loss : 0.365.. Testing loss : 0.405.. Test accuracy : 0.861\n",
      "Epochs : 20/30.. Training loss : 0.351.. Testing loss : 0.375.. Test accuracy : 0.871\n",
      "Epochs : 21/30.. Training loss : 0.360.. Testing loss : 0.370.. Test accuracy : 0.873\n",
      "Epochs : 22/30.. Training loss : 0.359.. Testing loss : 0.403.. Test accuracy : 0.865\n",
      "Epochs : 23/30.. Training loss : 0.348.. Testing loss : 0.378.. Test accuracy : 0.872\n",
      "Epochs : 24/30.. Training loss : 0.352.. Testing loss : 0.389.. Test accuracy : 0.868\n",
      "Epochs : 25/30.. Training loss : 0.351.. Testing loss : 0.387.. Test accuracy : 0.868\n",
      "Epochs : 26/30.. Training loss : 0.351.. Testing loss : 0.373.. Test accuracy : 0.874\n",
      "Epochs : 27/30.. Training loss : 0.345.. Testing loss : 0.372.. Test accuracy : 0.873\n",
      "Epochs : 28/30.. Training loss : 0.343.. Testing loss : 0.419.. Test accuracy : 0.856\n",
      "Epochs : 29/30.. Training loss : 0.341.. Testing loss : 0.386.. Test accuracy : 0.864\n",
      "Epochs : 30/30.. Training loss : 0.338.. Testing loss : 0.393.. Test accuracy : 0.871\n"
     ]
    }
   ],
   "source": [
    "## TODO: Train your model with dropout, and monitor the training progress with the validation loss and accuracy\n",
    "\n",
    "model = Network()\n",
    "criterion = nn.NLLLoss()\n",
    "optimizer = optim.Adam(model.parameters(), lr=0.003)\n",
    "\n",
    "epochs = 30\n",
    "train_losses, test_losses = [], []\n",
    "\n",
    "for e in range(epochs):\n",
    "    running_loss = 0\n",
    "    for images, labels in trainloader:\n",
    "\n",
    "        optimizer.zero_grad()\n",
    "        log_ps = model(images)\n",
    "        train_loss = criterion(log_ps, labels)\n",
    "        train_loss.backward()\n",
    "        optimizer.step()        \n",
    "        running_loss += train_loss.item()\n",
    "        \n",
    "    else:\n",
    "        \n",
    "        test_loss = 0\n",
    "        accuracy = 0\n",
    "        with torch.no_grad():            \n",
    "            model.eval()\n",
    "            for images, labels in testloader:\n",
    "                \n",
    "                log_ps = model(images)\n",
    "                test_loss += criterion(log_ps, labels)\n",
    "                ps = torch.exp(log_ps)\n",
    "                top_p, top_class = ps.topk(1, dim=1)\n",
    "                \n",
    "                equals = top_class == labels.view(top_class.shape)                \n",
    "                accuracy += torch.mean(equals.type(torch.FloatTensor))\n",
    "                \n",
    "        model.train()\n",
    "        train_losses.append(running_loss/len(trainloader))\n",
    "        test_losses.append(test_loss/len(testloader))\n",
    "        \n",
    "        print('Epochs : {}/{}..'.format(e+1, epochs),\n",
    "             'Training loss : {:.3f}..'.format(running_loss/len(trainloader)),\n",
    "             'Testing loss : {:.3f}..'.format(test_loss/len(testloader)),\n",
    "             'Test accuracy : {:.3f}'.format(accuracy/len(testloader)))\n",
    "                \n",
    "        "
   ]
  },
  {
   "cell_type": "code",
   "execution_count": 8,
   "metadata": {},
   "outputs": [
    {
     "data": {
      "image/png": "[encoded data removed]",
      "text/plain": [
       "<Figure size 432x648 with 2 Axes>"
      ]
     },
     "metadata": {
      "needs_background": "light"
     },
     "output_type": "display_data"
    }
   ],
   "source": [
    "import helper\n",
    "model.eval()\n",
    "\n",
    "dataiter = iter(testloader)\n",
    "images, labels = dataiter.next()\n",
    "img = images[0]\n",
    "\n",
    "img = img.view(1, 784)\n",
    "with torch.no_grad():\n",
    "    output = model.forward(img)\n",
    "\n",
    "ps = torch.exp(output)\n",
    "\n",
    "# Plot the image and probabilities\n",
    "helper.view_classify(img.view(1, 28, 28), ps, version='Fashion')"
   ]
  },
  {
   "cell_type": "code",
   "execution_count": null,
   "metadata": {},
   "outputs": [],
   "source": []
  }
 ],
 "metadata": {
  "kernelspec": {
   "display_name": "Python 3",
   "language": "python",
   "name": "python3"
  },
  "language_info": {
   "codemirror_mode": {
    "name": "ipython",
    "version": 3
   },
   "file_extension": ".py",
   "mimetype": "text/x-python",
   "name": "python",
   "nbconvert_exporter": "python",
   "pygments_lexer": "ipython3",
   "version": "3.7.6"
  }
 },
 "nbformat": 4,
 "nbformat_minor": 2
}
